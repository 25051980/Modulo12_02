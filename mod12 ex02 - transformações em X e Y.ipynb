{
 "cells": [
  {
   "cell_type": "markdown",
   "metadata": {},
   "source": [
    "# Regressão 01 - tarefa 02 - transformações em X e Y"
   ]
  },
  {
   "cell_type": "markdown",
   "metadata": {},
   "source": [
    "### 1. Melhorando o ajuste no percentual de gorjetas\n",
    "\n",
    "a. Vamos partir do modelo feito na última tarefa, o que relaciona ```tip_pct``` e ```net_bill```. Carregue a base, os pacotes e reproduza este modelo aqui."
   ]
  },
  {
   "cell_type": "code",
   "execution_count": 10,
   "metadata": {},
   "outputs": [],
   "source": [
    "import pandas as pd\n",
    "import numpy as np\n",
    "from seaborn import load_dataset\n",
    "\n",
    "import patsy\n",
    "import statsmodels.api as sm\n",
    "import statsmodels.formula.api as smf\n",
    "\n",
    "import seaborn as sns\n",
    "import matplotlib.pyplot as plt\n"
   ]
  },
  {
   "cell_type": "code",
   "execution_count": 11,
   "metadata": {},
   "outputs": [
    {
     "data": {
      "text/html": [
       "<div>\n",
       "<style scoped>\n",
       "    .dataframe tbody tr th:only-of-type {\n",
       "        vertical-align: middle;\n",
       "    }\n",
       "\n",
       "    .dataframe tbody tr th {\n",
       "        vertical-align: top;\n",
       "    }\n",
       "\n",
       "    .dataframe thead th {\n",
       "        text-align: right;\n",
       "    }\n",
       "</style>\n",
       "<table border=\"1\" class=\"dataframe\">\n",
       "  <thead>\n",
       "    <tr style=\"text-align: right;\">\n",
       "      <th></th>\n",
       "      <th>total_bill</th>\n",
       "      <th>tip</th>\n",
       "      <th>sex</th>\n",
       "      <th>smoker</th>\n",
       "      <th>day</th>\n",
       "      <th>time</th>\n",
       "      <th>size</th>\n",
       "      <th>tip_pct</th>\n",
       "      <th>net_bill</th>\n",
       "    </tr>\n",
       "  </thead>\n",
       "  <tbody>\n",
       "    <tr>\n",
       "      <th>0</th>\n",
       "      <td>16.99</td>\n",
       "      <td>1.01</td>\n",
       "      <td>Female</td>\n",
       "      <td>No</td>\n",
       "      <td>Sun</td>\n",
       "      <td>Dinner</td>\n",
       "      <td>2</td>\n",
       "      <td>0.063204</td>\n",
       "      <td>15.98</td>\n",
       "    </tr>\n",
       "    <tr>\n",
       "      <th>1</th>\n",
       "      <td>10.34</td>\n",
       "      <td>1.66</td>\n",
       "      <td>Male</td>\n",
       "      <td>No</td>\n",
       "      <td>Sun</td>\n",
       "      <td>Dinner</td>\n",
       "      <td>3</td>\n",
       "      <td>0.191244</td>\n",
       "      <td>8.68</td>\n",
       "    </tr>\n",
       "    <tr>\n",
       "      <th>2</th>\n",
       "      <td>21.01</td>\n",
       "      <td>3.50</td>\n",
       "      <td>Male</td>\n",
       "      <td>No</td>\n",
       "      <td>Sun</td>\n",
       "      <td>Dinner</td>\n",
       "      <td>3</td>\n",
       "      <td>0.199886</td>\n",
       "      <td>17.51</td>\n",
       "    </tr>\n",
       "    <tr>\n",
       "      <th>3</th>\n",
       "      <td>23.68</td>\n",
       "      <td>3.31</td>\n",
       "      <td>Male</td>\n",
       "      <td>No</td>\n",
       "      <td>Sun</td>\n",
       "      <td>Dinner</td>\n",
       "      <td>2</td>\n",
       "      <td>0.162494</td>\n",
       "      <td>20.37</td>\n",
       "    </tr>\n",
       "    <tr>\n",
       "      <th>4</th>\n",
       "      <td>24.59</td>\n",
       "      <td>3.61</td>\n",
       "      <td>Female</td>\n",
       "      <td>No</td>\n",
       "      <td>Sun</td>\n",
       "      <td>Dinner</td>\n",
       "      <td>4</td>\n",
       "      <td>0.172069</td>\n",
       "      <td>20.98</td>\n",
       "    </tr>\n",
       "  </tbody>\n",
       "</table>\n",
       "</div>"
      ],
      "text/plain": [
       "   total_bill   tip     sex smoker  day    time  size   tip_pct  net_bill\n",
       "0       16.99  1.01  Female     No  Sun  Dinner     2  0.063204     15.98\n",
       "1       10.34  1.66    Male     No  Sun  Dinner     3  0.191244      8.68\n",
       "2       21.01  3.50    Male     No  Sun  Dinner     3  0.199886     17.51\n",
       "3       23.68  3.31    Male     No  Sun  Dinner     2  0.162494     20.37\n",
       "4       24.59  3.61  Female     No  Sun  Dinner     4  0.172069     20.98"
      ]
     },
     "execution_count": 11,
     "metadata": {},
     "output_type": "execute_result"
    }
   ],
   "source": [
    "tips = sns.load_dataset(\"tips\")\n",
    "tips['tip_pct'] = tips['tip'] / (tips['total_bill'] - tips['tip'])\n",
    "tips['net_bill'] = tips['total_bill'] - tips['tip']\n",
    "tips.head()"
   ]
  },
  {
   "cell_type": "markdown",
   "metadata": {},
   "source": [
    "### 2. ajuste o modelo de ```tip_pct``` em função do logaritmo de ```net_bill```."
   ]
  },
  {
   "cell_type": "code",
   "execution_count": 5,
   "metadata": {
    "scrolled": true
   },
   "outputs": [
    {
     "name": "stdout",
     "output_type": "stream",
     "text": [
      "                            OLS Regression Results                            \n",
      "==============================================================================\n",
      "Dep. Variable:                tip_pct   R-squared:                       0.202\n",
      "Model:                            OLS   Adj. R-squared:                  0.198\n",
      "Method:                 Least Squares   F-statistic:                     61.16\n",
      "Date:                Fri, 24 Nov 2023   Prob (F-statistic):           1.62e-13\n",
      "Time:                        09:49:41   Log-Likelihood:                 123.81\n",
      "No. Observations:                 244   AIC:                            -243.6\n",
      "Df Residuals:                     242   BIC:                            -236.6\n",
      "Df Model:                           1                                         \n",
      "Covariance Type:            nonrobust                                         \n",
      "================================================================================\n",
      "                   coef    std err          t      P>|t|      [0.025      0.975]\n",
      "--------------------------------------------------------------------------------\n",
      "Intercept        0.6181      0.054     11.444      0.000       0.512       0.724\n",
      "log_net_bill    -0.1534      0.020     -7.820      0.000      -0.192      -0.115\n",
      "==============================================================================\n",
      "Omnibus:                      440.899   Durbin-Watson:                   1.965\n",
      "Prob(Omnibus):                  0.000   Jarque-Bera (JB):           171509.052\n",
      "Skew:                           9.850   Prob(JB):                         0.00\n",
      "Kurtosis:                     131.381   Cond. No.                         17.9\n",
      "==============================================================================\n",
      "\n",
      "Notes:\n",
      "[1] Standard Errors assume that the covariance matrix of the errors is correctly specified.\n"
     ]
    }
   ],
   "source": [
    "# Carregando a base de dados 'tips'\n",
    "tips = sns.load_dataset(\"tips\")\n",
    "\n",
    "# Criando as variáveis 'tip_pct' e 'net_bill'\n",
    "tips['tip_pct'] = tips['tip'] / (tips['total_bill'] - tips['tip'])\n",
    "tips['net_bill'] = tips['total_bill'] - tips['tip']\n",
    "\n",
    "# Adicionando o logaritmo de net_bill\n",
    "tips['log_net_bill'] = np.log(tips['net_bill'])\n",
    "\n",
    "# Ajustando o modelo de regressão para tip_pct em função do logaritmo de net_bill\n",
    "model_log = smf.ols('tip_pct ~ log_net_bill', data=tips).fit()\n",
    "\n",
    "# Exibindo os resultados do modelo\n",
    "print(model_log.summary())\n"
   ]
  },
  {
   "cell_type": "markdown",
   "metadata": {},
   "source": [
    " 3. ajuste o modelo de ```tip_pct``` em função de um polinômio de segundo grau em ```net_bill```."
   ]
  },
  {
   "cell_type": "code",
   "execution_count": 6,
   "metadata": {},
   "outputs": [
    {
     "name": "stdout",
     "output_type": "stream",
     "text": [
      "                            OLS Regression Results                            \n",
      "==============================================================================\n",
      "Dep. Variable:                tip_pct   R-squared:                       0.158\n",
      "Model:                            OLS   Adj. R-squared:                  0.151\n",
      "Method:                 Least Squares   F-statistic:                     22.55\n",
      "Date:                Fri, 24 Nov 2023   Prob (F-statistic):           1.06e-09\n",
      "Time:                        09:55:13   Log-Likelihood:                 117.25\n",
      "No. Observations:                 244   AIC:                            -228.5\n",
      "Df Residuals:                     241   BIC:                            -218.0\n",
      "Df Model:                           2                                         \n",
      "Covariance Type:            nonrobust                                         \n",
      "====================================================================================\n",
      "                       coef    std err          t      P>|t|      [0.025      0.975]\n",
      "------------------------------------------------------------------------------------\n",
      "Intercept            0.4851      0.047     10.332      0.000       0.393       0.578\n",
      "I(net_bill)         -0.0268      0.005     -5.477      0.000      -0.036      -0.017\n",
      "I(net_bill ** 2)     0.0005      0.000      4.356      0.000       0.000       0.001\n",
      "==============================================================================\n",
      "Omnibus:                      447.620   Durbin-Watson:                   2.026\n",
      "Prob(Omnibus):                  0.000   Jarque-Bera (JB):           186035.672\n",
      "Skew:                          10.140   Prob(JB):                         0.00\n",
      "Kurtosis:                     136.744   Cond. No.                     2.42e+03\n",
      "==============================================================================\n",
      "\n",
      "Notes:\n",
      "[1] Standard Errors assume that the covariance matrix of the errors is correctly specified.\n",
      "[2] The condition number is large, 2.42e+03. This might indicate that there are\n",
      "strong multicollinearity or other numerical problems.\n"
     ]
    }
   ],
   "source": [
    "import pandas as pd\n",
    "import numpy as np\n",
    "import seaborn as sns\n",
    "import statsmodels.formula.api as smf\n",
    "\n",
    "# Carregando a base de dados 'tips'\n",
    "tips = sns.load_dataset(\"tips\")\n",
    "\n",
    "# Criando as variáveis 'tip_pct' e 'net_bill'\n",
    "tips['tip_pct'] = tips['tip'] / (tips['total_bill'] - tips['tip'])\n",
    "tips['net_bill'] = tips['total_bill'] - tips['tip']\n",
    "\n",
    "# Ajustando o modelo de regressão de tip_pct em função de um polinômio de segundo grau em net_bill\n",
    "model_poly = smf.ols('tip_pct ~ I(net_bill) + I(net_bill ** 2)', data=tips).fit()\n",
    "\n",
    "# Exibindo o resumo do modelo\n",
    "print(model_poly.summary())\n"
   ]
  },
  {
   "cell_type": "markdown",
   "metadata": {},
   "source": [
    "###  4. ajuste um modelo no log do ```tip_pct``` em função de ```net_bill```. Calcule o $R^2$ também em ```tip_pct```"
   ]
  },
  {
   "cell_type": "code",
   "execution_count": 8,
   "metadata": {},
   "outputs": [
    {
     "name": "stdout",
     "output_type": "stream",
     "text": [
      "O R^2 para o modelo no log de tip_pct é: 0.23534487140864324\n",
      "O R^2 calculado para tip_pct é: 0.08676609740629249\n"
     ]
    }
   ],
   "source": [
    "# Carregando a base de dados 'tips'\n",
    "tips = sns.load_dataset(\"tips\")\n",
    "\n",
    "# Criando as variáveis 'tip_pct' e 'net_bill'\n",
    "tips['tip_pct'] = tips['tip'] / (tips['total_bill'] - tips['tip'])\n",
    "tips['net_bill'] = tips['total_bill'] - tips['tip']\n",
    "\n",
    "# Verificando se há valores de tip_pct menores ou iguais a zero\n",
    "if (tips['tip_pct'] <= 0).any():\n",
    "    print(\"Existem valores de tip_pct menores ou iguais a zero, o que impede o cálculo do logaritmo.\")\n",
    "else:\n",
    "    # Calculando o logaritmo de tip_pct\n",
    "    tips['log_tip_pct'] = np.log(tips['tip_pct'])\n",
    "\n",
    "    # Ajustando o modelo de regressão para o logaritmo de tip_pct em função de net_bill\n",
    "    model_log_tip_pct = smf.ols('log_tip_pct ~ net_bill', data=tips).fit()\n",
    "\n",
    "    # Calculando o R^2 para tip_pct usando os valores previstos e convertendo de volta do logaritmo\n",
    "    tips['pred_log_tip_pct'] = model_log_tip_pct.fittedvalues\n",
    "    tips['pred_tip_pct'] = np.exp(tips['pred_log_tip_pct'])\n",
    "\n",
    "    # Calculando o R^2 para tip_pct\n",
    "    ss_res = np.sum(np.square(tips['tip_pct'] - tips['pred_tip_pct']))\n",
    "    ss_tot = np.sum(np.square(tips['tip_pct'] - np.mean(tips['tip_pct'])))\n",
    "    r_squared = 1 - (ss_res / ss_tot)\n",
    "\n",
    "    print(f\"O R^2 para o modelo no log de tip_pct é: {model_log_tip_pct.rsquared}\")\n",
    "    print(f\"O R^2 calculado para tip_pct é: {r_squared}\")\n"
   ]
  },
  {
   "cell_type": "markdown",
   "metadata": {},
   "source": [
    "###  5. ajuste um modelo no log do ```tip_pct``` em função do log de ```net_bill```. Calcule o $R^2$ também em ```tip_pct```."
   ]
  },
  {
   "cell_type": "code",
   "execution_count": 9,
   "metadata": {},
   "outputs": [
    {
     "name": "stdout",
     "output_type": "stream",
     "text": [
      "R^2 do modelo no log de tip_pct: 0.29347402150807766\n",
      "R^2 calculado para tip_pct: 0.22768529518136027\n"
     ]
    }
   ],
   "source": [
    "# Carregar a base de dados 'tips'\n",
    "tips = sns.load_dataset(\"tips\")\n",
    "\n",
    "# Criar as variáveis 'tip_pct' e 'net_bill'\n",
    "tips['tip_pct'] = tips['tip'] / (tips['total_bill'] - tips['tip'])\n",
    "tips['net_bill'] = tips['total_bill'] - tips['tip']\n",
    "\n",
    "# Remover valores de tip_pct e net_bill menores ou iguais a zero\n",
    "tips = tips[(tips['tip_pct'] > 0) & (tips['net_bill'] > 0)]\n",
    "\n",
    "# Calcular o logaritmo de tip_pct e net_bill\n",
    "tips['log_tip_pct'] = np.log(tips['tip_pct'])\n",
    "tips['log_net_bill'] = np.log(tips['net_bill'])\n",
    "\n",
    "# Ajustar o modelo de regressão linear\n",
    "model = smf.ols('log_tip_pct ~ log_net_bill', data=tips).fit()\n",
    "\n",
    "# Calcular o R^2 do modelo\n",
    "r_squared_model = model.rsquared\n",
    "\n",
    "# Prever o log de tip_pct e converter para a escala original\n",
    "tips['pred_log_tip_pct'] = model.predict(tips[['log_net_bill']])\n",
    "tips['pred_tip_pct'] = np.exp(tips['pred_log_tip_pct'])\n",
    "\n",
    "# Calcular o R^2 para tip_pct\n",
    "ss_res = np.sum(np.square(tips['tip_pct'] - tips['pred_tip_pct']))\n",
    "ss_tot = np.sum(np.square(tips['tip_pct'] - np.mean(tips['tip_pct'])))\n",
    "r_squared_tip_pct = 1 - (ss_res / ss_tot)\n",
    "\n",
    "print(f\"R^2 do modelo no log de tip_pct: {r_squared_model}\")\n",
    "print(f\"R^2 calculado para tip_pct: {r_squared_tip_pct}\")\n"
   ]
  },
  {
   "cell_type": "markdown",
   "metadata": {},
   "source": [
    "###  6. qual modelo resultou no melhor ajuste?"
   ]
  },
  {
   "cell_type": "markdown",
   "metadata": {},
   "source": [
    "O modelo, com um R2 de 0.293 para o log de tip_pct e 0.228 para tip_pct na escala original, apresenta um ajuste melhor aos dados do que o outro modelo, que tem um R2 de 0.235 para o log de tip_pct e 0.087 para tip_pct na escala original."
   ]
  }
 ],
 "metadata": {
  "kernelspec": {
   "display_name": "Python 3 (ipykernel)",
   "language": "python",
   "name": "python3"
  },
  "language_info": {
   "codemirror_mode": {
    "name": "ipython",
    "version": 3
   },
   "file_extension": ".py",
   "mimetype": "text/x-python",
   "name": "python",
   "nbconvert_exporter": "python",
   "pygments_lexer": "ipython3",
   "version": "3.11.5"
  }
 },
 "nbformat": 4,
 "nbformat_minor": 4
}
